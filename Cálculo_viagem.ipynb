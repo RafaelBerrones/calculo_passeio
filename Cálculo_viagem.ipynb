{
  "nbformat": 4,
  "nbformat_minor": 0,
  "metadata": {
    "colab": {
      "provenance": []
    },
    "kernelspec": {
      "name": "python3",
      "display_name": "Python 3"
    },
    "language_info": {
      "name": "python"
    }
  },
  "cells": [
    {
      "cell_type": "code",
      "execution_count": 3,
      "metadata": {
        "id": "drfm0v2tYvLR",
        "colab": {
          "base_uri": "https://localhost:8080/"
        },
        "outputId": "89da59f1-1ae7-4ec7-fca0-58da97b6c5d8"
      },
      "outputs": [
        {
          "output_type": "stream",
          "name": "stdout",
          "text": [
            "Quantas diárias? 4\n",
            "Qual cidade? [Salvador, Fortaleza, Natal ou Aracaju] Salvador\n",
            "Com base nos gastos definidos, uma viagem de 4 dias para Salvador saindo de Recife custaria R$ 2007.14\n"
          ]
        }
      ],
      "source": [
        "dias = int(input('Quantas diárias? '))\n",
        "cidade = input('Qual cidade? [Salvador, Fortaleza, Natal ou Aracaju] ')\n",
        "\n",
        "\n",
        "passeio = [200, 400, 250, 300]\n",
        "kms = [850, 800, 300, 550]\n",
        "\n",
        "km_l = 14\n",
        "preco_gasolina = 5\n",
        "diaria_hotel =  150\n",
        "\n",
        "\n",
        "def gasto_hotel():\n",
        "  diaria = diaria_hotel * dias\n",
        "  return(diaria)\n",
        "\n",
        "diaria = gasto_hotel()\n",
        "\n",
        "def gasto_gasolina(cidade):\n",
        "\n",
        "  if cidade  == 'Salvador':\n",
        "    return(2 * kms[0] * preco_gasolina) / km_l\n",
        "  elif cidade == 'Fortaleza':\n",
        "    return(2 * kms[1] * preco_gasolina) / km_l\n",
        "  elif cidade == 'Natal':\n",
        "    return(2 * kms[2] * preco_gasolina) / km_l\n",
        "  elif cidade == 'Aracaju':\n",
        "    return(2 * kms[3] * preco_gasolina) / km_l\n",
        "\n",
        "def gasto_passeio(cidade, dias):\n",
        "\n",
        "  if cidade == 'Salvador':\n",
        "    return(passeio[0] * dias)\n",
        "  elif cidade == 'Fortaleza':\n",
        "    return(passeio[1] * dias)\n",
        "  elif cidade == 'Natal':\n",
        "    return(passeio[2] * dias)\n",
        "  elif cidade == 'Aracaju':\n",
        "    return(passeio[3] * dias)\n",
        "\n",
        "\n",
        "gastos = gasto_hotel() + gasto_gasolina(cidade) + gasto_passeio(cidade, dias)\n",
        "\n",
        "print(f\"Com base nos gastos definidos, uma viagem de {dias} dias para {cidade} saindo de Recife custaria R$ {round(gastos, 2)}\")"
      ]
    }
  ]
}